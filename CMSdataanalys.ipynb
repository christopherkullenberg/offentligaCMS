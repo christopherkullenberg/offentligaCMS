{
 "cells": [
  {
   "cell_type": "markdown",
   "metadata": {},
   "source": [
    "# CMS analysis\n",
    "*Note:* The data was collected using [wig](https://github.com/jekyc/wig). It is not included here since wig also collects information about security vulnerabilities. "
   ]
  },
  {
   "cell_type": "code",
   "execution_count": 58,
   "metadata": {
    "collapsed": true
   },
   "outputs": [],
   "source": [
    "import pandas as pd\n",
    "from os import listdir\n",
    "import re"
   ]
  },
  {
   "cell_type": "code",
   "execution_count": 59,
   "metadata": {
    "collapsed": true
   },
   "outputs": [],
   "source": [
    "df = pd.read_json(\"data/kommuner.json\")"
   ]
  },
  {
   "cell_type": "code",
   "execution_count": 60,
   "metadata": {
    "collapsed": true
   },
   "outputs": [],
   "source": [
    "cmsdict = {}\n",
    "\n",
    "for d in df.iterrows():\n",
    "    try:\n",
    "        for dictset in d[1][0]:\n",
    "            try:\n",
    "                #print d[1][1]['url']\n",
    "                #print(dictset['name'])\n",
    "                cmsdict[d[1][1]['url']] = dictset['name']\n",
    "                #print(\"--\")\n",
    "                break\n",
    "            except KeyError:\n",
    "                continue\n",
    "    except TypeError:\n",
    "        continue\n",
    "\n",
    "    except TypeError:\n",
    "        continue\n"
   ]
  },
  {
   "cell_type": "code",
   "execution_count": 61,
   "metadata": {
    "collapsed": true
   },
   "outputs": [],
   "source": [
    "#  Create a new dataframe\n",
    "df2 = pd.DataFrame(list(cmsdict.items()), columns=[\"kommun\", \"CMS\"])"
   ]
  },
  {
   "cell_type": "code",
   "execution_count": 62,
   "metadata": {
    "collapsed": false
   },
   "outputs": [
    {
     "name": "stdout",
     "output_type": "stream",
     "text": [
      "Number of Kommuner websites: 274\n"
     ]
    },
    {
     "data": {
      "text/html": [
       "<div>\n",
       "<table border=\"1\" class=\"dataframe\">\n",
       "  <thead>\n",
       "    <tr style=\"text-align: right;\">\n",
       "      <th></th>\n",
       "      <th>kommun</th>\n",
       "      <th>CMS</th>\n",
       "    </tr>\n",
       "  </thead>\n",
       "  <tbody>\n",
       "    <tr>\n",
       "      <th>0</th>\n",
       "      <td>http://www.ale.se</td>\n",
       "      <td>JSP</td>\n",
       "    </tr>\n",
       "    <tr>\n",
       "      <th>1</th>\n",
       "      <td>https://www.alingsas.se</td>\n",
       "      <td>Drupal</td>\n",
       "    </tr>\n",
       "    <tr>\n",
       "      <th>2</th>\n",
       "      <td>http://www.alvesta.se</td>\n",
       "      <td>EPiServer</td>\n",
       "    </tr>\n",
       "    <tr>\n",
       "      <th>3</th>\n",
       "      <td>http://www.aneby.se</td>\n",
       "      <td>Apache</td>\n",
       "    </tr>\n",
       "    <tr>\n",
       "      <th>4</th>\n",
       "      <td>http://www.arjeplog.se</td>\n",
       "      <td>JSP</td>\n",
       "    </tr>\n",
       "  </tbody>\n",
       "</table>\n",
       "</div>"
      ],
      "text/plain": [
       "                    kommun        CMS\n",
       "0        http://www.ale.se        JSP\n",
       "1  https://www.alingsas.se     Drupal\n",
       "2    http://www.alvesta.se  EPiServer\n",
       "3      http://www.aneby.se     Apache\n",
       "4   http://www.arjeplog.se        JSP"
      ]
     },
     "execution_count": 62,
     "metadata": {},
     "output_type": "execute_result"
    }
   ],
   "source": [
    "print(\"Number of Kommuner websites: \" + str(len(df2)))\n",
    "df2.head()"
   ]
  },
  {
   "cell_type": "code",
   "execution_count": 63,
   "metadata": {
    "collapsed": false
   },
   "outputs": [
    {
     "data": {
      "text/plain": [
       "JSP              122\n",
       "EPiServer         83\n",
       "WordPress         18\n",
       "Apache            11\n",
       "ASP.NET           10\n",
       "Umbraco            7\n",
       "Drupal             5\n",
       "IIS                4\n",
       "apache-coyote      4\n",
       "Joomla!            2\n",
       "phpMyAdmin         2\n",
       "Lotus Domino       1\n",
       "SharePoint         1\n",
       "TYPO3              1\n",
       "+                  1\n",
       "nginx              1\n",
       "Sitecore           1\n",
       "Name: CMS, dtype: int64"
      ]
     },
     "execution_count": 63,
     "metadata": {},
     "output_type": "execute_result"
    }
   ],
   "source": [
    "df2['CMS'].value_counts()"
   ]
  },
  {
   "cell_type": "code",
   "execution_count": 64,
   "metadata": {
    "collapsed": false
   },
   "outputs": [
    {
     "name": "stdout",
     "output_type": "stream",
     "text": [
      "JSP 44.5 %\n",
      "EPiServer 30.3 %\n",
      "WordPress 6.6 %\n",
      "Apache 4.0 %\n",
      "ASP.NET 3.6 %\n",
      "Umbraco 2.6 %\n",
      "Drupal 1.8 %\n",
      "IIS 1.5 %\n",
      "apache-coyote 1.5 %\n",
      "Joomla! 0.7 %\n",
      "phpMyAdmin 0.7 %\n",
      "Lotus Domino 0.4 %\n",
      "SharePoint 0.4 %\n",
      "TYPO3 0.4 %\n",
      "+ 0.4 %\n",
      "nginx 0.4 %\n",
      "Sitecore 0.4 %\n"
     ]
    }
   ],
   "source": [
    "for k, v in df2['CMS'].value_counts().items():\n",
    "    print(k, round((v / len(df2))* 100, 1), \"%\")"
   ]
  },
  {
   "cell_type": "code",
   "execution_count": null,
   "metadata": {
    "collapsed": true
   },
   "outputs": [],
   "source": []
  },
  {
   "cell_type": "code",
   "execution_count": 79,
   "metadata": {
    "collapsed": false
   },
   "outputs": [],
   "source": [
    "cmsdict2 = {} #  (?<=RT\\s\\@).*?(?=\\:)\n",
    "\n",
    "for f in listdir(\"data/resultatmyndigheter/\"):\n",
    "    with open(\"data/resultatmyndigheter/\" + f) as thefile:\n",
    "        content = thefile.readlines()\n",
    "        for c in content:\n",
    "            #  print(\"-----\")\n",
    "            urlmatch = re.findall(r'(?<=http\\:\\/\\/).*?(?=\\\\)', c, re.IGNORECASE)\n",
    "            #  print(urlmatch[0])\n",
    "            cmsmatch = re.findall(r'(?<=CMS\\(name\\=\\').*?(?=\\')', c, re.IGNORECASE)\n",
    "            if cmsmatch:\n",
    "                cmsdict2[urlmatch[0]] = cmsmatch[0]\n",
    "                #  print(urlmatch[0], cmsmatch[0])\n",
    "            else:\n",
    "                continue\n",
    "            #  print(\"-----\")\n",
    "#  print(cmsdict2)"
   ]
  },
  {
   "cell_type": "code",
   "execution_count": 80,
   "metadata": {
    "collapsed": true
   },
   "outputs": [],
   "source": [
    "df3 = pd.DataFrame(list(cmsdict2.items()), columns=[\"kommun\", \"CMS\"])"
   ]
  },
  {
   "cell_type": "code",
   "execution_count": 81,
   "metadata": {
    "collapsed": false
   },
   "outputs": [
    {
     "data": {
      "text/html": [
       "<div>\n",
       "<table border=\"1\" class=\"dataframe\">\n",
       "  <thead>\n",
       "    <tr style=\"text-align: right;\">\n",
       "      <th></th>\n",
       "      <th>kommun</th>\n",
       "      <th>CMS</th>\n",
       "    </tr>\n",
       "  </thead>\n",
       "  <tbody>\n",
       "    <tr>\n",
       "      <th>0</th>\n",
       "      <td>lansstyrelsen.se/gavleborg</td>\n",
       "      <td>SharePoint</td>\n",
       "    </tr>\n",
       "    <tr>\n",
       "      <th>1</th>\n",
       "      <td>lansstyrelsen.se/halland</td>\n",
       "      <td>SharePoint</td>\n",
       "    </tr>\n",
       "    <tr>\n",
       "      <th>2</th>\n",
       "      <td>lansstyrelsen.se/jamtland</td>\n",
       "      <td>SharePoint</td>\n",
       "    </tr>\n",
       "    <tr>\n",
       "      <th>3</th>\n",
       "      <td>lansstyrelsen.se/skane</td>\n",
       "      <td>SharePoint</td>\n",
       "    </tr>\n",
       "    <tr>\n",
       "      <th>4</th>\n",
       "      <td>domstol.se/Om-Sveriges-Domstolar/Notarienamnden</td>\n",
       "      <td>EPiServer</td>\n",
       "    </tr>\n",
       "  </tbody>\n",
       "</table>\n",
       "</div>"
      ],
      "text/plain": [
       "                                            kommun         CMS\n",
       "0                       lansstyrelsen.se/gavleborg  SharePoint\n",
       "1                         lansstyrelsen.se/halland  SharePoint\n",
       "2                        lansstyrelsen.se/jamtland  SharePoint\n",
       "3                           lansstyrelsen.se/skane  SharePoint\n",
       "4  domstol.se/Om-Sveriges-Domstolar/Notarienamnden   EPiServer"
      ]
     },
     "execution_count": 81,
     "metadata": {},
     "output_type": "execute_result"
    }
   ],
   "source": [
    "df3.head()"
   ]
  },
  {
   "cell_type": "code",
   "execution_count": 83,
   "metadata": {
    "collapsed": false
   },
   "outputs": [
    {
     "data": {
      "text/plain": [
       "EPiServer     17\n",
       "Drupal         7\n",
       "SharePoint     5\n",
       "WordPress      4\n",
       "Sitecore       1\n",
       "Name: CMS, dtype: int64"
      ]
     },
     "execution_count": 83,
     "metadata": {},
     "output_type": "execute_result"
    }
   ],
   "source": [
    "df3['CMS'].value_counts()"
   ]
  },
  {
   "cell_type": "code",
   "execution_count": 82,
   "metadata": {
    "collapsed": false
   },
   "outputs": [
    {
     "name": "stdout",
     "output_type": "stream",
     "text": [
      "EPiServer 6.2 %\n",
      "Drupal 2.6 %\n",
      "SharePoint 1.8 %\n",
      "WordPress 1.5 %\n",
      "Sitecore 0.4 %\n"
     ]
    }
   ],
   "source": [
    "for k, v in df3['CMS'].value_counts().items():\n",
    "    print(k, round((v / len(df2))* 100, 1), \"%\")"
   ]
  },
  {
   "cell_type": "code",
   "execution_count": null,
   "metadata": {
    "collapsed": true
   },
   "outputs": [],
   "source": []
  }
 ],
 "metadata": {
  "kernelspec": {
   "display_name": "Python 3",
   "language": "python",
   "name": "python3"
  },
  "language_info": {
   "codemirror_mode": {
    "name": "ipython",
    "version": 3
   },
   "file_extension": ".py",
   "mimetype": "text/x-python",
   "name": "python",
   "nbconvert_exporter": "python",
   "pygments_lexer": "ipython3",
   "version": "3.6.0"
  }
 },
 "nbformat": 4,
 "nbformat_minor": 2
}
